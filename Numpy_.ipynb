{
  "nbformat": 4,
  "nbformat_minor": 0,
  "metadata": {
    "colab": {
      "provenance": []
    },
    "kernelspec": {
      "name": "python3",
      "display_name": "Python 3"
    },
    "language_info": {
      "name": "python"
    }
  },
  "cells": [
    {
      "cell_type": "markdown",
      "source": [
        "## Numpy"
      ],
      "metadata": {
        "id": "WbwpXkeEPySa"
      }
    },
    {
      "cell_type": "code",
      "execution_count": null,
      "metadata": {
        "colab": {
          "base_uri": "https://localhost:8080/"
        },
        "id": "kBEsqrc0N9bH",
        "outputId": "81d07c94-c26f-4ffa-88c5-d5393b6da3b2"
      },
      "outputs": [
        {
          "output_type": "stream",
          "name": "stdout",
          "text": [
            "[0 1 2 3 4 5]\n",
            "(6,)\n"
          ]
        }
      ],
      "source": [
        "import numpy as np  # numeric python\n",
        "l1=[0,1,2,3,4,5]\n",
        "np1=np.array(l1)\n",
        "print(np1)\n",
        "print(np1.shape) # gets the shape of an array\n"
      ]
    },
    {
      "cell_type": "code",
      "source": [
        "np2=np.arange(10) # type of a range fun\n",
        "print(np2)"
      ],
      "metadata": {
        "id": "Quhmo8xfRN4b",
        "colab": {
          "base_uri": "https://localhost:8080/"
        },
        "outputId": "26e5c041-c2d2-4a35-a424-8752a32893e5"
      },
      "execution_count": null,
      "outputs": [
        {
          "output_type": "stream",
          "name": "stdout",
          "text": [
            "[0 1 2 3 4 5 6 7 8 9]\n"
          ]
        }
      ]
    },
    {
      "cell_type": "code",
      "source": [
        "np2=np.arange(10,2,-1)\n",
        "print(np2)"
      ],
      "metadata": {
        "colab": {
          "base_uri": "https://localhost:8080/"
        },
        "id": "t4_fBSt7mChb",
        "outputId": "13683b9f-f766-4f7d-dbc9-84f5165daf1d"
      },
      "execution_count": null,
      "outputs": [
        {
          "output_type": "stream",
          "name": "stdout",
          "text": [
            "[10  9  8  7  6  5  4  3]\n"
          ]
        }
      ]
    },
    {
      "cell_type": "code",
      "source": [
        "np3=np.zeros(3)\n",
        "np3"
      ],
      "metadata": {
        "colab": {
          "base_uri": "https://localhost:8080/"
        },
        "id": "iH5dHWEbmQbJ",
        "outputId": "e518cdb0-0395-4a7b-98a6-84053f6b3f20"
      },
      "execution_count": null,
      "outputs": [
        {
          "output_type": "execute_result",
          "data": {
            "text/plain": [
              "array([0., 0., 0.])"
            ]
          },
          "metadata": {},
          "execution_count": 4
        }
      ]
    },
    {
      "cell_type": "code",
      "source": [
        "np3=np.zeros((2,10))\n",
        "np3"
      ],
      "metadata": {
        "colab": {
          "base_uri": "https://localhost:8080/"
        },
        "id": "Ihh3gr_qmprJ",
        "outputId": "11afadc0-8ca6-4198-f598-1ef3c7ba33b1"
      },
      "execution_count": null,
      "outputs": [
        {
          "output_type": "execute_result",
          "data": {
            "text/plain": [
              "array([[0., 0., 0., 0., 0., 0., 0., 0., 0., 0.],\n",
              "       [0., 0., 0., 0., 0., 0., 0., 0., 0., 0.]])"
            ]
          },
          "metadata": {},
          "execution_count": 9
        }
      ]
    },
    {
      "cell_type": "code",
      "source": [
        "np.full((10),6)"
      ],
      "metadata": {
        "colab": {
          "base_uri": "https://localhost:8080/"
        },
        "id": "teh-0ZOXmpoO",
        "outputId": "09087dfb-d90f-4991-ba0c-ded7ab7afb7b"
      },
      "execution_count": null,
      "outputs": [
        {
          "output_type": "execute_result",
          "data": {
            "text/plain": [
              "array([6, 6, 6, 6, 6, 6, 6, 6, 6, 6])"
            ]
          },
          "metadata": {},
          "execution_count": 10
        }
      ]
    },
    {
      "cell_type": "code",
      "source": [
        "np.full((2,10),6)"
      ],
      "metadata": {
        "colab": {
          "base_uri": "https://localhost:8080/"
        },
        "id": "XfXbCfNLmpeF",
        "outputId": "d7cb15b8-43be-416a-e30d-499972eb6007"
      },
      "execution_count": null,
      "outputs": [
        {
          "output_type": "execute_result",
          "data": {
            "text/plain": [
              "array([[6, 6, 6, 6, 6, 6, 6, 6, 6, 6],\n",
              "       [6, 6, 6, 6, 6, 6, 6, 6, 6, 6]])"
            ]
          },
          "metadata": {},
          "execution_count": 11
        }
      ]
    },
    {
      "cell_type": "markdown",
      "source": [
        "## Slicing of numpy array"
      ],
      "metadata": {
        "id": "Vy5kg5linp4I"
      }
    },
    {
      "cell_type": "code",
      "source": [
        "np1=np.arange(0,10)\n",
        "print(np1)\n",
        "np1[1:5]"
      ],
      "metadata": {
        "colab": {
          "base_uri": "https://localhost:8080/"
        },
        "id": "Ia_-gw19mpaG",
        "outputId": "fe2a69c1-ab79-438b-9503-f461b3035892"
      },
      "execution_count": null,
      "outputs": [
        {
          "output_type": "stream",
          "name": "stdout",
          "text": [
            "[0 1 2 3 4 5 6 7 8 9]\n"
          ]
        },
        {
          "output_type": "execute_result",
          "data": {
            "text/plain": [
              "array([1, 2, 3, 4])"
            ]
          },
          "metadata": {},
          "execution_count": 3
        }
      ]
    },
    {
      "cell_type": "code",
      "source": [
        "np1[::-1]"
      ],
      "metadata": {
        "colab": {
          "base_uri": "https://localhost:8080/"
        },
        "id": "1atGQUXDmpYR",
        "outputId": "b8e18e71-8ffb-415d-fd08-275ce8059710"
      },
      "execution_count": null,
      "outputs": [
        {
          "output_type": "execute_result",
          "data": {
            "text/plain": [
              "array([9, 8, 7, 6, 5, 4, 3, 2, 1, 0])"
            ]
          },
          "metadata": {},
          "execution_count": 13
        }
      ]
    },
    {
      "cell_type": "code",
      "source": [
        "np1[-3:-1]"
      ],
      "metadata": {
        "colab": {
          "base_uri": "https://localhost:8080/"
        },
        "id": "mrGMO_Xrn3s6",
        "outputId": "807151fa-10ce-41a1-c0a4-b04c8c14f312"
      },
      "execution_count": null,
      "outputs": [
        {
          "output_type": "execute_result",
          "data": {
            "text/plain": [
              "array([7, 8])"
            ]
          },
          "metadata": {},
          "execution_count": 14
        }
      ]
    },
    {
      "cell_type": "code",
      "source": [
        "np2=[np.arange(0,10),np.arange(0,10)]\n",
        "np2"
      ],
      "metadata": {
        "colab": {
          "base_uri": "https://localhost:8080/"
        },
        "id": "KxBYnT85n3qH",
        "outputId": "c9b92114-9ed2-4cfb-d6ff-5516cee08e54"
      },
      "execution_count": null,
      "outputs": [
        {
          "output_type": "execute_result",
          "data": {
            "text/plain": [
              "[array([0, 1, 2, 3, 4, 5, 6, 7, 8, 9]), array([0, 1, 2, 3, 4, 5, 6, 7, 8, 9])]"
            ]
          },
          "metadata": {},
          "execution_count": 20
        }
      ]
    },
    {
      "cell_type": "code",
      "source": [
        "np2=np.array([[1,2,3,4,5],[6,7,8,9,0]])\n",
        "np2[1,3]"
      ],
      "metadata": {
        "colab": {
          "base_uri": "https://localhost:8080/"
        },
        "id": "A0zLzd6zn3mB",
        "outputId": "be8c946b-d358-4c00-fa97-600658a9c7d7"
      },
      "execution_count": null,
      "outputs": [
        {
          "output_type": "execute_result",
          "data": {
            "text/plain": [
              "9"
            ]
          },
          "metadata": {},
          "execution_count": 5
        }
      ]
    },
    {
      "cell_type": "code",
      "source": [
        "np2[0:1,0:3]  # np2[rows , rows ka slicing]"
      ],
      "metadata": {
        "colab": {
          "base_uri": "https://localhost:8080/"
        },
        "id": "mAU4cwCEn3j5",
        "outputId": "90ea66d7-a7dd-499a-efab-91a6018ace82"
      },
      "execution_count": null,
      "outputs": [
        {
          "output_type": "execute_result",
          "data": {
            "text/plain": [
              "array([[1, 2, 3]])"
            ]
          },
          "metadata": {},
          "execution_count": 9
        }
      ]
    },
    {
      "cell_type": "code",
      "source": [
        "np2[0:2,3:4]"
      ],
      "metadata": {
        "colab": {
          "base_uri": "https://localhost:8080/"
        },
        "id": "wRUp8wC0OsaN",
        "outputId": "8d0f46a7-a66a-4db4-b843-95b315e1941a"
      },
      "execution_count": null,
      "outputs": [
        {
          "output_type": "execute_result",
          "data": {
            "text/plain": [
              "array([[4],\n",
              "       [9]])"
            ]
          },
          "metadata": {},
          "execution_count": 10
        }
      ]
    },
    {
      "cell_type": "markdown",
      "source": [
        "## Mathematical Operation"
      ],
      "metadata": {
        "id": "ZAJSaH0wvdqo"
      }
    },
    {
      "cell_type": "code",
      "source": [
        "import numpy as np\n",
        "# Square Root\n",
        "n1=np.array([0,1,2,3,4,5,6,7,8,9])\n",
        "np.sqrt(n1)"
      ],
      "metadata": {
        "colab": {
          "base_uri": "https://localhost:8080/"
        },
        "id": "aAtqwhD0q9uE",
        "outputId": "f86f2740-4c61-4087-e0d6-7c1d462591b1"
      },
      "execution_count": null,
      "outputs": [
        {
          "output_type": "execute_result",
          "data": {
            "text/plain": [
              "array([0.        , 1.        , 1.41421356, 1.73205081, 2.        ,\n",
              "       2.23606798, 2.44948974, 2.64575131, 2.82842712, 3.        ])"
            ]
          },
          "metadata": {},
          "execution_count": 11
        }
      ]
    },
    {
      "cell_type": "code",
      "source": [
        "# return Absolute value : remove negative sign\n",
        "n1=np.array([-3,-2,-1,0,1,2,3,4,5,6,7,8,9])\n",
        "np.absolute(n1)"
      ],
      "metadata": {
        "colab": {
          "base_uri": "https://localhost:8080/"
        },
        "id": "1YL8LsENq_ye",
        "outputId": "c236c80b-70fe-421d-a9a3-002cc686a8ac"
      },
      "execution_count": null,
      "outputs": [
        {
          "output_type": "execute_result",
          "data": {
            "text/plain": [
              "array([3, 2, 1, 0, 1, 2, 3, 4, 5, 6, 7, 8, 9])"
            ]
          },
          "metadata": {},
          "execution_count": 12
        }
      ]
    },
    {
      "cell_type": "code",
      "source": [
        "# exponents\n",
        "print(np.exp(n1))"
      ],
      "metadata": {
        "id": "HTEIayasq_jq",
        "colab": {
          "base_uri": "https://localhost:8080/"
        },
        "outputId": "0c1eb937-0f08-4aa7-8fad-7674498735d4"
      },
      "execution_count": null,
      "outputs": [
        {
          "output_type": "stream",
          "name": "stdout",
          "text": [
            "[4.97870684e-02 1.35335283e-01 3.67879441e-01 1.00000000e+00\n",
            " 2.71828183e+00 7.38905610e+00 2.00855369e+01 5.45981500e+01\n",
            " 1.48413159e+02 4.03428793e+02 1.09663316e+03 2.98095799e+03\n",
            " 8.10308393e+03]\n"
          ]
        }
      ]
    },
    {
      "cell_type": "code",
      "source": [
        "# Max and Min\n",
        "print(np.max(n1))\n",
        "print(np.min(n1))"
      ],
      "metadata": {
        "id": "BYthY2bpq_WJ",
        "colab": {
          "base_uri": "https://localhost:8080/"
        },
        "outputId": "1ed5bdcc-0665-4d8b-c7b4-a3276b599536"
      },
      "execution_count": null,
      "outputs": [
        {
          "output_type": "stream",
          "name": "stdout",
          "text": [
            "9\n",
            "-3\n"
          ]
        }
      ]
    },
    {
      "cell_type": "code",
      "source": [
        "# Sign Positive and Negative\n",
        "print(np.sign(n1))"
      ],
      "metadata": {
        "id": "et1GE3Neq9Zi",
        "colab": {
          "base_uri": "https://localhost:8080/"
        },
        "outputId": "d02ff900-b05d-4f25-a4f1-03bf9bf54bf6"
      },
      "execution_count": null,
      "outputs": [
        {
          "output_type": "stream",
          "name": "stdout",
          "text": [
            "[-1 -1 -1  0  1  1  1  1  1  1  1  1  1]\n"
          ]
        }
      ]
    },
    {
      "cell_type": "code",
      "source": [
        "# Trigonomentry , Logrithm\n",
        "print(np.sin(n1))\n",
        "print(np.log(n1))"
      ],
      "metadata": {
        "id": "iGeSPdwGq9Kt",
        "colab": {
          "base_uri": "https://localhost:8080/"
        },
        "outputId": "10538305-58ba-44d8-aaed-366e070164ea"
      },
      "execution_count": null,
      "outputs": [
        {
          "output_type": "stream",
          "name": "stdout",
          "text": [
            "[-0.14112001 -0.90929743 -0.84147098  0.          0.84147098  0.90929743\n",
            "  0.14112001 -0.7568025  -0.95892427 -0.2794155   0.6569866   0.98935825\n",
            "  0.41211849]\n",
            "[       nan        nan        nan       -inf 0.         0.69314718\n",
            " 1.09861229 1.38629436 1.60943791 1.79175947 1.94591015 2.07944154\n",
            " 2.19722458]\n"
          ]
        },
        {
          "output_type": "stream",
          "name": "stderr",
          "text": [
            "<ipython-input-18-215be5136a6b>:3: RuntimeWarning: divide by zero encountered in log\n",
            "  print(np.log(n1))\n",
            "<ipython-input-18-215be5136a6b>:3: RuntimeWarning: invalid value encountered in log\n",
            "  print(np.log(n1))\n"
          ]
        }
      ]
    },
    {
      "cell_type": "markdown",
      "source": [
        "## Copy And View"
      ],
      "metadata": {
        "id": "FZgzonRXUuvZ"
      }
    },
    {
      "cell_type": "code",
      "source": [
        "import numpy as np\n",
        "np1=np.array([1,2,3,4,5,6])\n",
        "np2=np1.view()\n",
        "print(f\"Original NP1 {np1}\")\n",
        "print(f\"Original NP2 {np2}\")\n",
        "\n",
        "np1[0]=10   # through the view command the to variable get interconnected\n",
        "print(f\"Original NP1 {np1}\")\n",
        "print(f\"changed NP2 {np2}\")"
      ],
      "metadata": {
        "id": "6LoNrUj9q89m",
        "colab": {
          "base_uri": "https://localhost:8080/"
        },
        "outputId": "8ffab8ee-a258-40fd-b5f0-f499fc28e3c5"
      },
      "execution_count": null,
      "outputs": [
        {
          "output_type": "stream",
          "name": "stdout",
          "text": [
            "Original NP1 [1 2 3 4 5 6]\n",
            "Original NP2 [1 2 3 4 5 6]\n",
            "Original NP1 [10  2  3  4  5  6]\n",
            "changed NP2 [10  2  3  4  5  6]\n"
          ]
        }
      ]
    },
    {
      "cell_type": "code",
      "source": [
        "import numpy as np\n",
        "np1=np.array([1,2,3,4,5,6])\n",
        "np2=np1.copy()\n",
        "print(f\"Original NP1 {np1}\")\n",
        "print(f\"Original NP2 {np2}\")\n",
        "np1[0]=10\n",
        "np2[3]=67 # np1 and np2 are completely separated\n",
        "print(f\"Original NP1 {np1}\")\n",
        "print(f\"changed NP2 {np2}\")"
      ],
      "metadata": {
        "id": "775arCg5q8xT",
        "colab": {
          "base_uri": "https://localhost:8080/"
        },
        "outputId": "772f6b1b-cd5e-469c-9ce5-051471a02cce"
      },
      "execution_count": null,
      "outputs": [
        {
          "output_type": "stream",
          "name": "stdout",
          "text": [
            "Original NP1 [1 2 3 4 5 6]\n",
            "Original NP2 [1 2 3 4 5 6]\n",
            "Original NP1 [10  2  3  4  5  6]\n",
            "changed NP2 [ 1  2  3 67  5  6]\n"
          ]
        }
      ]
    },
    {
      "cell_type": "markdown",
      "source": [
        "##  Shape and Reshape"
      ],
      "metadata": {
        "id": "0SuxMrbj3TS3"
      }
    },
    {
      "cell_type": "code",
      "source": [
        "n1=np.array([1,2,3,4,5,6,7,8,9,10,11,12])\n",
        "print(n1)\n",
        "print(n1.shape)"
      ],
      "metadata": {
        "id": "TypcaBQFq8F_",
        "colab": {
          "base_uri": "https://localhost:8080/"
        },
        "outputId": "a7d48a03-ff43-41e5-b89c-d8585a0ff2ba"
      },
      "execution_count": null,
      "outputs": [
        {
          "output_type": "stream",
          "name": "stdout",
          "text": [
            "[ 1  2  3  4  5  6  7  8  9 10 11 12]\n",
            "(12,)\n"
          ]
        }
      ]
    },
    {
      "cell_type": "code",
      "source": [
        "n2=np.array([[1,2,3,4,5,6],[7,8,9,10,11,12]])\n",
        "print(n2)\n",
        "print(n2.shape)"
      ],
      "metadata": {
        "id": "cZ3L-zwYUT-O",
        "colab": {
          "base_uri": "https://localhost:8080/"
        },
        "outputId": "8687db6a-4f9b-4828-a6cf-9e77c6f64e82"
      },
      "execution_count": null,
      "outputs": [
        {
          "output_type": "stream",
          "name": "stdout",
          "text": [
            "[[ 1  2  3  4  5  6]\n",
            " [ 7  8  9 10 11 12]]\n",
            "(2, 6)\n"
          ]
        }
      ]
    },
    {
      "cell_type": "code",
      "source": [
        "n3=print(n1.reshape(3,4))"
      ],
      "metadata": {
        "id": "SeLb8_DjUT6O",
        "colab": {
          "base_uri": "https://localhost:8080/"
        },
        "outputId": "93f41a44-a10c-4d2d-ef4d-67b0f92214db"
      },
      "execution_count": null,
      "outputs": [
        {
          "output_type": "stream",
          "name": "stdout",
          "text": [
            "[[ 1  2  3  4]\n",
            " [ 5  6  7  8]\n",
            " [ 9 10 11 12]]\n"
          ]
        }
      ]
    },
    {
      "cell_type": "code",
      "source": [
        "n3=n1.reshape(2,3,2)  # row, row , row\n",
        "print(n3)\n",
        "n=n3.shape\n",
        "print(n)"
      ],
      "metadata": {
        "id": "xIa-Otg3UT4M",
        "colab": {
          "base_uri": "https://localhost:8080/"
        },
        "outputId": "ed9f8a57-754e-41a2-ab6e-5145b556e2c4"
      },
      "execution_count": null,
      "outputs": [
        {
          "output_type": "stream",
          "name": "stdout",
          "text": [
            "[[[ 1  2]\n",
            "  [ 3  4]\n",
            "  [ 5  6]]\n",
            "\n",
            " [[ 7  8]\n",
            "  [ 9 10]\n",
            "  [11 12]]]\n",
            "(2, 3, 2)\n"
          ]
        }
      ]
    },
    {
      "cell_type": "code",
      "source": [
        "n4=n3.reshape(-1)\n",
        "print(n4)"
      ],
      "metadata": {
        "id": "omrBBlqKUT0R",
        "colab": {
          "base_uri": "https://localhost:8080/"
        },
        "outputId": "ac457426-9293-4e87-d823-44ecbe0489f6"
      },
      "execution_count": null,
      "outputs": [
        {
          "output_type": "stream",
          "name": "stdout",
          "text": [
            "[ 1  2  3  4  5  6  7  8  9 10 11 12]\n"
          ]
        }
      ]
    },
    {
      "cell_type": "markdown",
      "source": [
        "## Iterating through numpy"
      ],
      "metadata": {
        "id": "0mk4kOtjQv5q"
      }
    },
    {
      "cell_type": "code",
      "source": [
        "import numpy as np\n",
        "n1=[0,2,3,4,5,6,7,8,9,10]\n",
        "np1=np.array(n1)\n",
        "for i in np1:\n",
        "  print(i)\n"
      ],
      "metadata": {
        "id": "SrmAYIPNUTyJ",
        "colab": {
          "base_uri": "https://localhost:8080/"
        },
        "outputId": "30c77cdf-00b5-4931-e4b1-7d87587a3f6d"
      },
      "execution_count": null,
      "outputs": [
        {
          "output_type": "stream",
          "name": "stdout",
          "text": [
            "0\n",
            "2\n",
            "3\n",
            "4\n",
            "5\n",
            "6\n",
            "7\n",
            "8\n",
            "9\n",
            "10\n"
          ]
        }
      ]
    },
    {
      "cell_type": "code",
      "source": [
        "import numpy as np\n",
        "n1=[[0,2,3,4,5],[6,7,8,9,10]]\n",
        "np1=np.array(n1)\n",
        "for i in np1:\n",
        "  print(i )\n"
      ],
      "metadata": {
        "id": "IPWY6orKUTvG",
        "colab": {
          "base_uri": "https://localhost:8080/"
        },
        "outputId": "7202bcff-0e11-4b82-bd23-ff3a52cf649b"
      },
      "execution_count": null,
      "outputs": [
        {
          "output_type": "stream",
          "name": "stdout",
          "text": [
            "[0 2 3 4 5]\n",
            "[ 6  7  8  9 10]\n"
          ]
        }
      ]
    },
    {
      "cell_type": "code",
      "source": [
        "import numpy as np\n",
        "n1=[[0,2,3,4,5],[6,7,8,9,10]]\n",
        "np1=np.array(n1)\n",
        "for i in np1:\n",
        "  for j in i:\n",
        "    print(j)\n"
      ],
      "metadata": {
        "id": "9hinhqATUTsT",
        "colab": {
          "base_uri": "https://localhost:8080/"
        },
        "outputId": "34f6e938-284f-4e75-dc71-f2a4d01102ed"
      },
      "execution_count": null,
      "outputs": [
        {
          "output_type": "stream",
          "name": "stdout",
          "text": [
            "0\n",
            "2\n",
            "3\n",
            "4\n",
            "5\n",
            "6\n",
            "7\n",
            "8\n",
            "9\n",
            "10\n"
          ]
        }
      ]
    },
    {
      "cell_type": "code",
      "source": [
        "n3=np.array ([[[1,2,3],[4,5,6]],[[7,8,9],[10,11,12]]])\n",
        "print(n3.shape)\n",
        "for i in n3:\n",
        "  for j in i:\n",
        "    for k in j:\n",
        "      print(k)\n"
      ],
      "metadata": {
        "id": "EYqnWDmOUToe",
        "colab": {
          "base_uri": "https://localhost:8080/"
        },
        "outputId": "7c033e8e-188d-4a6f-ffe7-0e1f243cab28"
      },
      "execution_count": null,
      "outputs": [
        {
          "output_type": "stream",
          "name": "stdout",
          "text": [
            "(2, 2, 3)\n",
            "1\n",
            "2\n",
            "3\n",
            "4\n",
            "5\n",
            "6\n",
            "7\n",
            "8\n",
            "9\n",
            "10\n",
            "11\n",
            "12\n"
          ]
        }
      ]
    },
    {
      "cell_type": "code",
      "source": [
        "n3=np.array ([[[1,2,3],[4,5,6]],[[7,8,9],[10,11,12]]])\n",
        "for i in np.nditer(n3):  # iterator for nth array\n",
        "  print(i)\n"
      ],
      "metadata": {
        "id": "zZdur5w3UTmk",
        "colab": {
          "base_uri": "https://localhost:8080/"
        },
        "outputId": "8ef45d6e-ff41-45fd-8cd7-8d357148d879"
      },
      "execution_count": null,
      "outputs": [
        {
          "output_type": "stream",
          "name": "stdout",
          "text": [
            "1\n",
            "2\n",
            "3\n",
            "4\n",
            "5\n",
            "6\n",
            "7\n",
            "8\n",
            "9\n",
            "10\n",
            "11\n",
            "12\n"
          ]
        }
      ]
    },
    {
      "cell_type": "markdown",
      "source": [
        "## Sorting"
      ],
      "metadata": {
        "id": "DxWqpD0vUE9H"
      }
    },
    {
      "cell_type": "code",
      "source": [
        "n2=np.array([\"Ayush\",\"Hitik\",\"Mohit\",\"Shivam\",\"Om\",\"Himanshu\"]) # Alphanumeric Sorting\n",
        "print(n2)\n",
        "print(np.sort(n2))\n",
        "print(n2)"
      ],
      "metadata": {
        "colab": {
          "base_uri": "https://localhost:8080/"
        },
        "id": "MIWLjTHeTWso",
        "outputId": "9950cc5a-7c90-4cef-dc3b-0bd99fb1c83e"
      },
      "execution_count": null,
      "outputs": [
        {
          "output_type": "stream",
          "name": "stdout",
          "text": [
            "['Ayush' 'Hitik' 'Mohit' 'Shivam' 'Om' 'Himanshu']\n",
            "['Ayush' 'Himanshu' 'Hitik' 'Mohit' 'Om' 'Shivam']\n",
            "['Ayush' 'Hitik' 'Mohit' 'Shivam' 'Om' 'Himanshu']\n"
          ]
        }
      ]
    },
    {
      "cell_type": "code",
      "source": [
        "n2=np.array([1,5,8,6,2,0]) # numeric Sorting\n",
        "print(n2)\n",
        "np.sort(n2)"
      ],
      "metadata": {
        "id": "AlFccL-hTWpq",
        "colab": {
          "base_uri": "https://localhost:8080/"
        },
        "outputId": "0a11b2fb-2450-41f6-9f67-284dbbb2ab44"
      },
      "execution_count": null,
      "outputs": [
        {
          "output_type": "stream",
          "name": "stdout",
          "text": [
            "[1 5 8 6 2 0]\n"
          ]
        },
        {
          "output_type": "execute_result",
          "data": {
            "text/plain": [
              "array([0, 1, 2, 5, 6, 8])"
            ]
          },
          "metadata": {},
          "execution_count": 32
        }
      ]
    },
    {
      "cell_type": "code",
      "source": [
        "n2=np.array([True, False, False, True]) # Boolean Sorting\n",
        "print(n2)\n",
        "np.sort(n2)"
      ],
      "metadata": {
        "id": "xKdHzKvGTWb5",
        "colab": {
          "base_uri": "https://localhost:8080/"
        },
        "outputId": "5c579f06-1904-49c3-8279-ae3a9c3afe7f"
      },
      "execution_count": null,
      "outputs": [
        {
          "output_type": "stream",
          "name": "stdout",
          "text": [
            "[ True False False  True]\n"
          ]
        },
        {
          "output_type": "execute_result",
          "data": {
            "text/plain": [
              "array([False, False,  True,  True])"
            ]
          },
          "metadata": {},
          "execution_count": 33
        }
      ]
    },
    {
      "cell_type": "code",
      "source": [
        "n2=np.array([[9,8,7],[5,4,3]]) #2d Array Sorting\n",
        "print(n2)\n",
        "np.sort(n2)"
      ],
      "metadata": {
        "id": "U-Rb3T7TTWX2",
        "colab": {
          "base_uri": "https://localhost:8080/"
        },
        "outputId": "d8c15fa9-9719-481c-8369-8521335d88e4"
      },
      "execution_count": null,
      "outputs": [
        {
          "output_type": "stream",
          "name": "stdout",
          "text": [
            "[[9 8 7]\n",
            " [5 4 3]]\n"
          ]
        },
        {
          "output_type": "execute_result",
          "data": {
            "text/plain": [
              "array([[7, 8, 9],\n",
              "       [3, 4, 5]])"
            ]
          },
          "metadata": {},
          "execution_count": 38
        }
      ]
    },
    {
      "cell_type": "markdown",
      "source": [
        "## Searching"
      ],
      "metadata": {
        "id": "sX6GXwnUXkxW"
      }
    },
    {
      "cell_type": "code",
      "source": [
        "a=np.array([1,2,3,4,5,6,7])\n",
        "r=np.where(a == 3)\n",
        "print(r)\n"
      ],
      "metadata": {
        "colab": {
          "base_uri": "https://localhost:8080/"
        },
        "id": "FcG-h4dyXkJb",
        "outputId": "00881b7c-f952-4e5b-d670-d9e1ef5bc98c"
      },
      "execution_count": null,
      "outputs": [
        {
          "output_type": "stream",
          "name": "stdout",
          "text": [
            "(array([2]),)\n"
          ]
        }
      ]
    },
    {
      "cell_type": "code",
      "source": [
        "import numpy as np\n",
        "\n",
        "arr = np.array([1, 2, 3, 4, 5])\n",
        "result = np.where(arr > 2)\n",
        "\n",
        "print(result)"
      ],
      "metadata": {
        "colab": {
          "base_uri": "https://localhost:8080/"
        },
        "id": "Hva8C_PbXkGR",
        "outputId": "bc4c79e8-3695-4a83-9cac-bba9bda91b59"
      },
      "execution_count": null,
      "outputs": [
        {
          "output_type": "stream",
          "name": "stdout",
          "text": [
            "(array([2, 3, 4]),)\n"
          ]
        }
      ]
    },
    {
      "cell_type": "code",
      "source": [
        "r1=np.where(a%2 == 0)\n",
        "print(a[r1])"
      ],
      "metadata": {
        "id": "MIFbpjkOTWVw",
        "colab": {
          "base_uri": "https://localhost:8080/"
        },
        "outputId": "c8117b3b-bfa7-42c7-d633-2a8b30639ffc"
      },
      "execution_count": null,
      "outputs": [
        {
          "output_type": "stream",
          "name": "stdout",
          "text": [
            "[2 4 6]\n"
          ]
        }
      ]
    },
    {
      "cell_type": "markdown",
      "source": [
        "## Filtering"
      ],
      "metadata": {
        "id": "ElgntkzFhX5t"
      }
    },
    {
      "cell_type": "code",
      "source": [
        "import numpy as np\n",
        "n1=np.array([1,2,3,4,5,6,7,8,9,10])\n",
        "print(n1)\n",
        "x=[True,True,False,False,True,False,False,True,False,False]\n",
        "print(n1[x])"
      ],
      "metadata": {
        "id": "GY82oIUTUPUD",
        "colab": {
          "base_uri": "https://localhost:8080/"
        },
        "outputId": "36ec43b3-be26-4f9f-ef33-82ce6a5d9673"
      },
      "execution_count": null,
      "outputs": [
        {
          "output_type": "stream",
          "name": "stdout",
          "text": [
            "[ 1  2  3  4  5  6  7  8  9 10]\n",
            "[1 2 5 8]\n"
          ]
        }
      ]
    },
    {
      "cell_type": "code",
      "source": [
        "fil=[]\n",
        "for i in n1:\n",
        "  if i%2==0:\n",
        "    fil.append(True)\n",
        "  else:\n",
        "    fil.append(False)\n",
        "\n",
        "print(n1)\n",
        "print(fil)\n",
        "print(n1[fil])"
      ],
      "metadata": {
        "colab": {
          "base_uri": "https://localhost:8080/"
        },
        "id": "LZtG_6jBiGPp",
        "outputId": "97143aef-f3c0-4b99-b69e-85f3bd7af050"
      },
      "execution_count": null,
      "outputs": [
        {
          "output_type": "stream",
          "name": "stdout",
          "text": [
            "[ 1  2  3  4  5  6  7  8  9 10]\n",
            "[False, True, False, True, False, True, False, True, False, True]\n",
            "[ 2  4  6  8 10]\n"
          ]
        }
      ]
    },
    {
      "cell_type": "code",
      "source": [
        "fil1 = n1%2 == 0\n",
        "print(n1)\n",
        "print(fil1)\n",
        "print(n1[fil1])"
      ],
      "metadata": {
        "colab": {
          "base_uri": "https://localhost:8080/"
        },
        "id": "E3tFL_q8iGMN",
        "outputId": "cf78e8cf-6711-47e1-ad0e-dfe0f302efaa"
      },
      "execution_count": null,
      "outputs": [
        {
          "output_type": "stream",
          "name": "stdout",
          "text": [
            "[ 1  2  3  4  5  6  7  8  9 10]\n",
            "[False  True False  True False  True False  True False  True]\n",
            "[ 2  4  6  8 10]\n"
          ]
        }
      ]
    },
    {
      "cell_type": "code",
      "source": [
        "fil1 = n1 >5\n",
        "print(n1)\n",
        "print(fil1)\n",
        "print(n1[fil1])"
      ],
      "metadata": {
        "colab": {
          "base_uri": "https://localhost:8080/"
        },
        "id": "waCEGq2jiGKD",
        "outputId": "1317d09c-fd2b-4bd3-e00f-4792f33955f8"
      },
      "execution_count": null,
      "outputs": [
        {
          "output_type": "stream",
          "name": "stdout",
          "text": [
            "[ 1  2  3  4  5  6  7  8  9 10]\n",
            "[False False False False False  True  True  True  True  True]\n",
            "[ 6  7  8  9 10]\n"
          ]
        }
      ]
    },
    {
      "cell_type": "markdown",
      "source": [],
      "metadata": {
        "id": "1jB3qDaxmdz0"
      }
    }
  ]
}